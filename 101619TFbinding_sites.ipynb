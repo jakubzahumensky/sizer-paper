{
 "cells": [
  {
   "cell_type": "code",
   "execution_count": 2,
   "metadata": {},
   "outputs": [],
   "source": [
    "import re\n",
    "\n",
    "def complement(seq):\n",
    "    complement = {'A': 'T', 'C': 'G', 'G': 'C', 'T': 'A'} \n",
    "    for letter in seq:\n",
    "        if letter not in complement:\n",
    "            print(letter)\n",
    "        comp_letters = [complement[base] for base in seq] \n",
    "    return ''.join(comp_letters)\n",
    "def reverse_complement(seq):\n",
    "    return complement(seq[::-1])"
   ]
  },
  {
   "cell_type": "code",
   "execution_count": 16,
   "metadata": {},
   "outputs": [
    {
     "data": {
      "text/plain": [
       "'TTGTGTG'"
      ]
     },
     "execution_count": 16,
     "metadata": {},
     "output_type": "execute_result"
    }
   ],
   "source": [
    "reverse_complement('CACACAA')"
   ]
  },
  {
   "cell_type": "code",
   "execution_count": 1,
   "metadata": {},
   "outputs": [],
   "source": [
    "TFmotifs = {}\n",
    "TFmotifs[\"SCB\"] = (\"CACGAAA\",\"TTTCGTG\")\n",
    "TFmotifs[\"SCB_v\"] = (\"CGCGAAA\",\"TTTCGCG\")\n",
    "TFmotifs[\"MCB\"] = (\"ACGCGT\",\"ACGCGT\")\n",
    "TFmotifs[\"MCB_d\"] = (\"CGCGT\",\"ACGCG\")\n",
    "TFmotifs[\"SWI5\"] = (\"ACCAGC\",\"GCTGGT\")\n",
    "TFmotifs[\"SCBscr\"] = (\"AAAGCAC\",\"GTGCTTT\")\n",
    "TFmotifs[\"MCBscr\"] = (\"AGGCC\",\"GGCCT\")\n",
    "\n",
    "                \n",
    "TFmotifs[\"Mcm1\"] = ('TT[ATCG]CC[ATCG]{3}T[ATCG]{2}GG[ATCG]AA','TT[ATCG]CC[ATCG]{2}A[ATCG]{3}GG[ATCG]AA') #TTnCCnnnTnnGGnAA #TTnCCnnAnnnGGnAA\n",
    "TFmotifs[\"Leu3\"] = ('CCG[ATCG]{4}CGG','CCG[ATCG]{4}CGG') #CCGN{4}CGG #CCGN{4}CGG\n",
    "TFmotifs[\"Hsf1\"] = ('GAA[ATCG]{2}TTC','GAA[ATCG]{2}TTC') #GAANNTTC #GAANNTTC\n",
    "TFmotifs[\"Lys14\"] = ('TCC[GA][ATCG][TC]GGA','TCC[GA][ATCG][TC]GGA') #TCCRNYGGA #TCCRNYGGA\n",
    "TFmotifs[\"Mal63\"] = ('CG[CG][ATGC]{9}CG[CG]','[GC]CG[ATCG]{9}[GC]CG')#CG[CG]N9CG[CG] #[GC]CGN9[GC]CG\n",
    "TFmotifs[\"Mot2\"] = ('ATATA','TATAT') # ATATA  # TATAT\n",
    "TFmotifs[\"Pdr1\"] = ('TCCGCGGA','TCCGCGGA') #TCCGCGGA #TCCGCGGA\n",
    "TFmotifs[\"Ppr1\"] = ('CGG[ATCG]{6}CCG','CGG[ATCG]{6}CCG')  #CGGN6CCG  #CGGN6CCG\n",
    "TFmotifs[\"Put3\"] = ('CCG[ATCG]{10}CCG','CCG[ATCG]{10}CCG') #CCGN10CCG #CCGN10CCG\n",
    "TFmotifs[\"Rds1\"] = ('CGGCCG','CGGCCG') #CGGCCG #CGGCCG\n",
    "TFmotifs[\"Rsc30\"] = ('CGCGCG','CGCGCG') #CGCGCG #CGCGCG\n",
    "TFmotifs[\"Sko1\"] = ('TGACGTCA','TGACGTCA') #TGACGTCA #TGACGTCA\n",
    "TFmotifs[\"Stb4\"] = ('TCGG[ATCG]CCGA','TCGG[ATCG]CCGA') #TCGGgCCGA #TCGGgCCGA\n",
    "TFmotifs[\"Ste12\"] = ('TGAAACA','TGAAACA') #TGAAACA #TGAAACA\n",
    "TFmotifs[\"Cbf1\"] = ('CACGTG','CACGTG')\n",
    "TFmotifs[\"Rap1\"] = ('ACACCC','GGGTGT')\n",
    "#TFmotifs[\"Cst6\"] = ('')\n"
   ]
  },
  {
   "cell_type": "code",
   "execution_count": 3,
   "metadata": {},
   "outputs": [],
   "source": [
    "motifs = [key for key in TFmotifs]\n",
    "\n",
    "with open('SC_300bp_beforeTSS.fsa') as f:\n",
    "    with open('TF_site_count.txt', 'w') as o:\n",
    "        o.write('gene'+'\\t'+ '\\t'.join(motifs)+'\\n')\n",
    "        for line in f:\n",
    "            if line.startswith('>'):\n",
    "                gene = line[1:-1]\n",
    "                if '%' in line:\n",
    "                    gene = gene.split('%2C')\n",
    "                else:\n",
    "                    gene = [gene]\n",
    "                    \n",
    "                sequence = next(f)[:-1]\n",
    "                \n",
    "                counts = []\n",
    "                for motif in motifs:\n",
    "                    forward_pattern = TFmotifs[motif][0]\n",
    "                    revcomp_pattern = TFmotifs[motif][1]\n",
    "                    result_f = [(g.start(), g.group()) for g in re.compile(forward_pattern).finditer(sequence)]\n",
    "                    result_r = [(g.start(), g.group()) for g in re.compile(revcomp_pattern).finditer(sequence)]\n",
    "                    count = len(set(result_f+result_r))\n",
    "                    counts.append(str(count))\n",
    "                for i in range(len(gene)):\n",
    "                    o.write(gene[i] + '\\t' + '\\t'.join(counts) + '\\n')"
   ]
  },
  {
   "cell_type": "code",
   "execution_count": null,
   "metadata": {},
   "outputs": [],
   "source": []
  }
 ],
 "metadata": {
  "kernelspec": {
   "display_name": "Python 3",
   "language": "python",
   "name": "python3"
  },
  "language_info": {
   "codemirror_mode": {
    "name": "ipython",
    "version": 3
   },
   "file_extension": ".py",
   "mimetype": "text/x-python",
   "name": "python",
   "nbconvert_exporter": "python",
   "pygments_lexer": "ipython3",
   "version": "3.6.8"
  }
 },
 "nbformat": 4,
 "nbformat_minor": 2
}
